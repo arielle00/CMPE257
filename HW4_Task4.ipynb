{
  "nbformat": 4,
  "nbformat_minor": 0,
  "metadata": {
    "colab": {
      "provenance": [],
      "include_colab_link": true
    },
    "kernelspec": {
      "name": "python3",
      "display_name": "Python 3"
    },
    "language_info": {
      "name": "python"
    }
  },
  "cells": [
    {
      "cell_type": "markdown",
      "metadata": {
        "id": "view-in-github",
        "colab_type": "text"
      },
      "source": [
        "<a href=\"https://colab.research.google.com/github/arielle00/CMPE257-Fall23-Arielle-Shnayder/blob/main/HW4_Task4.ipynb\" target=\"_parent\"><img src=\"https://colab.research.google.com/assets/colab-badge.svg\" alt=\"Open In Colab\"/></a>"
      ]
    },
    {
      "cell_type": "code",
      "execution_count": 123,
      "metadata": {
        "id": "FNlSMczb2lxA"
      },
      "outputs": [],
      "source": [
        "import numpy as np\n",
        "import matplotlib.pyplot as plt\n",
        "from sklearn.svm import SVC\n",
        "from sklearn.metrics import accuracy_score\n",
        "from sklearn.model_selection import cross_val_score\n",
        "import matplotlib.pyplot as plt\n",
        "import pandas as pd\n",
        "import random\n",
        "\n",
        "\n",
        "train_data = np.loadtxt(\"ZipDigits.train\",delimiter=\" \",usecols=range(0, 257))\n",
        "test_data = np.loadtxt(\"ZipDigits.test\",delimiter=\" \",usecols=range(0, 257))\n",
        "\n",
        "y_train = np.where(train_data[:, 0] == 1, 1, -1)\n",
        "y_test = np.where(test_data[:, 0] == 1, 1, -1)\n",
        "\n",
        "def calculate_intensity(image):\n",
        "    return np.mean(image[1:])\n",
        "\n",
        "def calculate_symmetry(image):\n",
        "    image = image[1:]\n",
        "    left = image[:int(256/2)]\n",
        "    right = image[int(256/2):]\n",
        "    symmetry = np.mean(np.abs(left - np.flip(right)))\n",
        "    return symmetry\n",
        "\n",
        "train_features = np.array([[calculate_intensity(x), calculate_symmetry(x)] for x in train_data])\n",
        "test_features = np.array([[calculate_intensity(x), calculate_symmetry(x)] for x in test_data])"
      ]
    },
    {
      "cell_type": "code",
      "source": [
        "df_train = pd.DataFrame(np.hstack([np.ones((train_features.shape[0], 1)), train_features, y_train.reshape(-1, 1)]),\n",
        "                        columns=['x0', 'x1', 'x2', 'x3'])\n",
        "\n",
        "df_test = pd.DataFrame(np.hstack([np.ones((test_features.shape[0], 1)), test_features, y_test.reshape(-1, 1)]),\n",
        "                       columns=['x0', 'x1', 'x2', 'x3'])\n",
        "\n",
        "def check_for_misclassified(w):\n",
        "  misclassified = []\n",
        "  w = np.array(w)\n",
        "  signs = np.sign(np.dot(df_train.iloc[:, :3].values, w))\n",
        "  y = df_train.iloc[:, 3].values\n",
        "\n",
        "  mismatches = np.where(signs != y)[0]\n",
        "  return mismatches\n",
        "\n",
        "\n",
        "Ein_pla=[]\n",
        "def perceptron():\n",
        "  w = [0,0,0]\n",
        "  misclassified = check_for_misclassified(w)\n",
        "  i=0\n",
        "\n",
        "  while(len(misclassified)!=0 and i<1000):\n",
        "    Ein_pla.append(len(misclassified)/len(df_train))\n",
        "    list_of_misclass = random.choice(list(misclassified))\n",
        "    x = df_train.iloc[list_of_misclass][:3].values\n",
        "    y = df_train.iloc[list_of_misclass][3]\n",
        "\n",
        "    w = w + x*y\n",
        "\n",
        "    misclassified = check_for_misclassified(w)\n",
        "    i=i+1\n",
        "  print(\"PLA\")\n",
        "  print(\"Ein:\",np.mean(Ein_pla))\n",
        "  print(\"This is the final weight: \",w)\n",
        "  # plot_graph(w, \"PLA\")\n",
        "  return w\n",
        "\n",
        "w = perceptron()\n",
        "\n",
        "X_test = df_test.iloc[:, :-1].values  # Extract input features\n",
        "y_test = df_test.iloc[:, -1].values   # Extract true labels\n",
        "\n",
        "y_pred = np.sign(np.dot(X_test,w))\n",
        "\n",
        "error_rate_test = np.mean(y_pred != y_test)\n",
        "print(f\"Error rate on test set: {error_rate_test:.4f}\")"
      ],
      "metadata": {
        "colab": {
          "base_uri": "https://localhost:8080/"
        },
        "id": "aCK99zVz3BZf",
        "outputId": "d90b4d41-f597-4b99-ba18-9957f3feff55"
      },
      "execution_count": 124,
      "outputs": [
        {
          "output_type": "stream",
          "name": "stdout",
          "text": [
            "PLA\n",
            "Ein: 0.05614387601152106\n",
            "This is the final weight:  [ 0.         -2.83613281 -9.69589063]\n",
            "Error rate on test set: 0.0254\n"
          ]
        }
      ]
    },
    {
      "cell_type": "code",
      "source": [
        "def pocketAlgo(misclassified_method, w_pocket):\n",
        "  i=0\n",
        "  Ein_list = []\n",
        "  w_maybeNew = w_pocket\n",
        "  misclassified_pocket = misclassified_method(w_pocket)\n",
        "\n",
        "  while i<1000:\n",
        "      list_of_misclass = random.choice(list(misclassified_pocket))\n",
        "      Ein = len(misclassified_pocket)/len(df_train)\n",
        "      Ein_list.append(Ein)\n",
        "\n",
        "      x = df_train.iloc[list_of_misclass][:3].values\n",
        "      y = df_train.iloc[list_of_misclass][3]\n",
        "\n",
        "      w_maybeNew = w_pocket + x*y\n",
        "\n",
        "      misclassified_new = misclassified_method(w_maybeNew)\n",
        "\n",
        "      if len(misclassified_new) <= len(misclassified_pocket):\n",
        "          w_pocket = w_maybeNew\n",
        "          misclassified_pocket = misclassified_new\n",
        "      else:\n",
        "        misclassified_pocket = misclassified_method(w_pocket)\n",
        "      i=i+1\n",
        "\n",
        "  print(\"POCKET Ein\",np.mean(Ein_list))\n",
        "  print(\"This is the final weight: \",w_pocket)\n",
        "  # plot_graph(w_pocket, \"Pocket Algo\")\n",
        "  return w_pocket\n",
        "\n",
        "w_pocket = [0,0,0]\n",
        "w_pocket = pocketAlgo(check_for_misclassified, w_pocket)\n",
        "\n",
        "\n",
        "X_test = df_test.iloc[:, :-1].values  # Extract input features\n",
        "y_test = df_test.iloc[:, -1].values   # Extract true labels\n",
        "\n",
        "y_pred = np.sign(np.dot(X_test,w_pocket))\n",
        "\n",
        "error_rate_test = np.mean(y_pred != y_test)\n",
        "print(f\"Error rate on test set: {error_rate_test:.4f}\")\n"
      ],
      "metadata": {
        "colab": {
          "base_uri": "https://localhost:8080/"
        },
        "id": "_kn5yPT8_PPZ",
        "outputId": "5289da14-0803-4a87-a053-6879776b72fc"
      },
      "execution_count": 125,
      "outputs": [
        {
          "output_type": "stream",
          "name": "stdout",
          "text": [
            "POCKET Ein 0.020301193251954466\n",
            "This is the final weight:  [ 0.         -0.16366797 -0.54210156]\n",
            "Error rate on test set: 0.0244\n"
          ]
        }
      ]
    },
    {
      "cell_type": "code",
      "source": [
        "y = list(df_train.iloc[:,-1])\n",
        "df_train = df_train.iloc[:,:-1]\n",
        "df_train = df_train.drop(columns=\"x0\")\n",
        "\n",
        "data_x = np.array(df_train)\n",
        "data_poly = np.c_[[1]*len(data_x), data_x, data_x[:, 0]**2, data_x[:, 1]**2, data_x[:, 0] * data_x[:, 1], data_x[:, 0]**3, data_x[:, 1]**3, data_x[:, 0]**2*data_x[:, 1], data_x[:, 1]**2*data_x[:, 0]]\n",
        "data_3d = pd.DataFrame(data_poly)\n",
        "data_3d.insert(data_3d.shape[1],'y',y)\n",
        "\n",
        "def check_missing_points_3d(w):\n",
        "    X = data_3d.values\n",
        "    hypo_y = np.sign(np.dot(X[:,:-1], w))\n",
        "    mismatched_indices = np.where(hypo_y != data_3d[\"y\"].values)[0]\n",
        "    return mismatched_indices.tolist()\n",
        "\n",
        "def pocket_algo_3d(w):\n",
        "    global max_itr\n",
        "    w_best = tuple(w)\n",
        "    miss_points = tuple(check_missing_points_3d(w_best))\n",
        "    w_best_points = len(miss_points)\n",
        "    l_data = len(data_3d)\n",
        "    Ein = []\n",
        "    n = max_itr\n",
        "    out_itr = n\n",
        "    for i in range(n):\n",
        "        j = miss_points[0]\n",
        "\n",
        "        x = data_3d.iloc[j,:-1]\n",
        "        y = data_3d.iloc[j,-1]\n",
        "        w = w + x*y\n",
        "\n",
        "        miss_points = tuple(check_missing_points_3d(w))\n",
        "        w_points = len(miss_points)\n",
        "        Ein.append(w_best_points/l_data)\n",
        "\n",
        "        if(w_points < w_best_points):\n",
        "            w_best = tuple(w)\n",
        "            w_best_points = w_points\n",
        "            out_itr = i\n",
        "\n",
        "        if(w_points == 0):\n",
        "            w_best = tuple(w)\n",
        "            w_best_points = w_points\n",
        "            break\n",
        "\n",
        "    print(\"Final Weights (Pocket):\",w_best, \"Number of Missclassified points:\", w_best_points, \", Got Final Weights at iteration\", out_itr)\n",
        "    print(\"In sample Error:\", w_best_points/len(data_3d)*100,\"%\")\n",
        "    return w_best\n",
        "\n",
        "max_itr = 1000\n",
        "w = [0]*10\n",
        "w_pocket_3d = pocket_algo_3d(w)"
      ],
      "metadata": {
        "colab": {
          "base_uri": "https://localhost:8080/"
        },
        "id": "jC07yyPqPNbJ",
        "outputId": "375d54c1-b683-4312-a17d-0146ab0593c5"
      },
      "execution_count": 126,
      "outputs": [
        {
          "output_type": "stream",
          "name": "stdout",
          "text": [
            "Final Weights (Pocket): (-2.0, -2.205796875000006, -5.57365625000001, 3.6865865001220586, -3.846300031982417, 2.685121539001464, -3.9392629124803307, -2.254653077740262, -1.239758321208129, 2.105545955607579) Number of Missclassified points: 203 , Got Final Weights at iteration 123\n",
            "In sample Error: 2.784254560416952 %\n"
          ]
        }
      ]
    },
    {
      "cell_type": "code",
      "source": [
        "y = list(df_test.iloc[:,-1])\n",
        "\n",
        "df_test = df_test.iloc[:,:-1]\n",
        "df_test = df_test.drop(columns=\"x0\")\n",
        "\n",
        "data_x = np.array(df_test)\n",
        "data_poly = np.c_[[1]*len(data_x), data_x, data_x[:, 0]**2, data_x[:, 1]**2, data_x[:, 0] * data_x[:, 1], data_x[:, 0]**3, data_x[:, 1]**3, data_x[:, 0]**2*data_x[:, 1], data_x[:, 1]**2*data_x[:, 0]]\n",
        "data_3d = pd.DataFrame(data_poly)\n",
        "data_3d.insert(data_3d.shape[1],'y',y)\n",
        "\n",
        "miss_points = check_missing_points_3d(w_pocket_3d)\n",
        "ein_pocket_test = len(miss_points)/len(data)*100\n",
        "print(\"Test data in Sample Error is\", ein_pocket_test, \"%\")\n",
        "print(\"Number of misclassified points:\", len(miss_points))"
      ],
      "metadata": {
        "colab": {
          "base_uri": "https://localhost:8080/"
        },
        "id": "5Zz4FCldPWhQ",
        "outputId": "c9ffa025-8b2c-40ea-c861-70070ca8ecb8"
      },
      "execution_count": 127,
      "outputs": [
        {
          "output_type": "stream",
          "name": "stdout",
          "text": [
            "Test data in Sample Error is 2.8400597907324365 %\n",
            "Number of misclassified points: 57\n"
          ]
        }
      ]
    }
  ]
}