{
  "nbformat": 4,
  "nbformat_minor": 0,
  "metadata": {
    "colab": {
      "provenance": [],
      "authorship_tag": "ABX9TyNz2njxib5wcoNkOO9t+hQi",
      "include_colab_link": true
    },
    "kernelspec": {
      "name": "python3",
      "display_name": "Python 3"
    },
    "language_info": {
      "name": "python"
    }
  },
  "cells": [
    {
      "cell_type": "markdown",
      "metadata": {
        "id": "view-in-github",
        "colab_type": "text"
      },
      "source": [
        "<a href=\"https://colab.research.google.com/github/arielle00/CMPE257-Fall23-Arielle-Shnayder/blob/homework1/hw1_task4.ipynb\" target=\"_parent\"><img src=\"https://colab.research.google.com/assets/colab-badge.svg\" alt=\"Open In Colab\"/></a>"
      ]
    },
    {
      "cell_type": "code",
      "execution_count": 45,
      "metadata": {
        "colab": {
          "base_uri": "https://localhost:8080/"
        },
        "id": "gkdQlIj4RpM7",
        "outputId": "a7a375de-e656-4133-dfa4-9f7fdae19ffe"
      },
      "outputs": [
        {
          "output_type": "stream",
          "name": "stdout",
          "text": [
            "[[-1.    -1.    -1.    -1.    -1.    -1.    -1.     0.51  -0.213 -1.\n",
            "  -1.    -1.    -1.    -1.    -1.    -1.   ]\n",
            " [-1.    -1.    -1.    -1.    -1.    -1.    -1.     0.292  0.792 -0.987\n",
            "  -1.    -1.    -1.    -1.    -1.    -1.   ]\n",
            " [-1.    -1.    -1.    -1.    -1.    -1.    -1.     0.56   0.975 -0.873\n",
            "  -1.    -1.    -1.    -1.    -1.    -1.   ]\n",
            " [-1.    -1.    -1.    -1.    -1.    -1.    -1.     0.745  0.999 -0.748\n",
            "  -1.    -1.    -1.    -1.    -1.    -1.   ]\n",
            " [-1.    -1.    -1.    -1.    -1.    -1.    -1.     0.596  1.    -0.601\n",
            "  -1.    -1.    -1.    -1.    -1.    -1.   ]\n",
            " [-1.    -1.    -1.    -1.    -1.    -1.    -1.     0.714  1.    -0.585\n",
            "  -1.    -1.    -1.    -1.    -1.    -1.   ]\n",
            " [-1.    -1.    -1.    -1.    -1.    -1.    -0.998  0.714  1.    -0.454\n",
            "  -1.    -1.    -1.    -1.    -1.    -1.   ]\n",
            " [-1.    -1.    -1.    -1.    -1.    -1.    -0.997  0.798  1.    -0.538\n",
            "  -1.    -1.    -1.    -1.    -1.    -1.   ]\n",
            " [-1.    -1.    -1.    -1.    -1.    -1.    -1.     0.402  1.    -0.39\n",
            "  -1.    -1.    -1.    -1.    -1.    -1.   ]\n",
            " [-1.    -1.    -1.    -1.    -1.    -1.    -1.     0.354  1.    -0.142\n",
            "  -1.    -1.    -1.    -1.    -1.    -1.   ]\n",
            " [-1.    -1.    -1.    -1.    -1.    -1.    -1.     0.222  1.    -0.06\n",
            "  -1.    -1.    -1.    -1.    -1.    -1.   ]\n",
            " [-1.    -1.    -1.    -1.    -1.    -1.    -1.     0.34   1.    -0.211\n",
            "  -1.    -1.    -1.    -1.    -1.    -1.   ]\n",
            " [-1.    -1.    -1.    -1.    -1.    -1.    -1.     0.242  1.    -0.113\n",
            "  -1.    -1.    -1.    -1.    -1.    -1.   ]\n",
            " [-1.    -1.    -1.    -1.    -1.    -1.    -0.967  0.594  1.    -0.431\n",
            "  -1.    -1.    -1.    -1.    -1.    -1.   ]\n",
            " [-1.    -1.    -1.    -1.    -1.    -1.    -0.14   1.     0.989 -0.705\n",
            "  -1.    -1.    -1.    -1.    -1.    -1.   ]\n",
            " [-1.    -1.    -1.    -1.    -1.    -1.    -0.654  0.666  0.301 -1.\n",
            "  -1.    -1.    -1.    -1.    -1.    -1.   ]]\n"
          ]
        }
      ],
      "source": [
        "import pandas as pd\n",
        "import matplotlib.pyplot as plt\n",
        "import numpy as np\n",
        "\n",
        "dfTrain = np.loadtxt(\"ZipDigits.train\")\n",
        "dfTest = np.loadtxt(\"ZipDigits.test\")\n",
        "\n",
        "filtered_dfTrain = []\n",
        "filtered_dfTest = []\n",
        "\n",
        "filtered_dfTrain = dfTrain[(dfTrain[:, 0] == 1) | (dfTrain[:, 0] == 5)]\n",
        "filtered_dfTest = dfTest[(dfTest[:, 0] == 1) | (dfTest[:, 0] == 5)]\n",
        "\n",
        "filtered_dfTrain[:, 0] = np.where(filtered_dfTrain[:, 0] == 1, 1, -1)\n",
        "filtered_dfTest[:, 0] = np.where(filtered_dfTest[:, 0] == 1, 1, -1)\n",
        "\n",
        "\n",
        "#This gets all the rows and their 256 columns not including first column\n",
        "\n",
        "def intensity(df):\n",
        "    pixels = filtered_dfTrain[:, 1:]\n",
        "    intensity = np.mean(pixels, axis=1)\n",
        "    return intensity\n",
        "\n",
        "def symmetry(df):\n",
        "    # 16 x 16 = 256\n",
        "    image_2d = df[1,1:].reshape(16, 16)\n",
        "    print(image_2d)\n",
        "    np.savetxt(\"output.txt\", image_2d)\n",
        "    return symmetry\n",
        "\n",
        "\n",
        "intensity_average = intensity(filtered_dfTrain)\n",
        "symmetry_average = symmetry(filtered_dfTrain)"
      ]
    }
  ]
}